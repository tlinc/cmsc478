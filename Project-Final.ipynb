{
 "cells": [
  {
   "cell_type": "markdown",
   "metadata": {
    "colab_type": "text",
    "id": "3W32qUN_7BhE"
   },
   "source": [
    "# CMSC471 Artificial Intelligence\n",
    "\n",
    "# Project Final Submission"
   ]
  },
  {
   "cell_type": "markdown",
   "metadata": {
    "colab_type": "text",
    "id": "lDwuHD0F7BhH"
   },
   "source": [
    "## Project Title"
   ]
  },
  {
   "cell_type": "markdown",
   "metadata": {
    "colab_type": "text",
    "id": "6LAfLsee7BhJ"
   },
   "source": [
    "*Matt Manzi, CL69490*"
   ]
  },
  {
   "cell_type": "markdown",
   "metadata": {
    "colab_type": "text",
    "id": "YLQYYl_v7BhL"
   },
   "source": [
    "## Problem Description\n",
    "\n",
    "This application of machine learning will attempt to classify the category of a mobile application using various app store data.  This is a multi-class classification problem since the goal is to correctly identify the category of an app given a set of category options.\n",
    "\n",
    "Every mobile app shares a subset of features like a name, file size, number of downloads, etc.  The intention is to draw (or disprove) correlation between these shared features and the category of an app.\n",
    "\n",
    "For example, if a majority of utility apps (compared to those of other categories) with over 100,000 downloads have a file size less than 10 MB, that may indicate that it is more important to consumers that utility apps be small in file size.  On the other hand, if there arises no correlation between the features in this dataset, that may indicate that users do no concern themselves over these aspects and neither should the developer."
   ]
  },
  {
   "cell_type": "markdown",
   "metadata": {
    "colab_type": "text",
    "id": "ii2HJAFn7BhO"
   },
   "source": [
    "## Motivation\n",
    "\n",
    "I develop my own mobile applications and I'm often very curious about what makes certain apps go viral.  I've heard much anecdotal advice, like that I shoud \"develop apps that the developer would themselves want to use.\"  In an effort to help guide some of my decisions, I believe that being able to classify app categories based on these features implies that there is a consistent expectation for apps in a certain category.  Thus, based on the categories of the apps that I want to develop, I will be able to make more informed decisions."
   ]
  },
  {
   "cell_type": "markdown",
   "metadata": {
    "colab_type": "text",
    "id": "sOjx2tyu7BhP"
   },
   "source": [
    "## Dataset\n",
    "\n",
    "- Link to dataset source: [https://www.kaggle.com/lava18/google-play-store-apps/data](https://www.kaggle.com/lava18/google-play-store-apps/data)\n",
    "\n",
    "- Target Feature: `Category`\n",
    "  - _The category that the app is sold under_\n",
    "\n",
    "- Features include\n",
    "  - `Rating`: _average rating out of 5.0_\n",
    "  - `Reviews`: _number of reviews for the app_\n",
    "  - `Installs`: _number of times the app has been installed to a device_\n",
    "  - `Price`: _the initial purchase price of the app_\n",
    "  - `NameLen`: _length of the app's name (computed)_\n",
    "  - `Bytes`: _number of bytes of the app package (computed)_\n",
    "\n"
   ]
  },
  {
   "cell_type": "code",
   "execution_count": 1,
   "metadata": {
    "colab": {
     "base_uri": "https://localhost:8080/",
     "height": 51
    },
    "colab_type": "code",
    "executionInfo": {
     "elapsed": 403,
     "status": "ok",
     "timestamp": 1575947295738,
     "user": {
      "displayName": "Matt Manzi",
      "photoUrl": "https://lh3.googleusercontent.com/a-/AAuE7mBzrGECYyWaaqJx3oC47M1kmaKT-XWbTl5QTEPW=s64",
      "userId": "17464005290403814327"
     },
     "user_tz": 300
    },
    "id": "719dMfkX7BhU",
    "outputId": "1362173c-93be-4345-966e-d0b40b722bb9"
   },
   "outputs": [
    {
     "name": "stdout",
     "output_type": "stream",
     "text": [
      "(10841, 13)\n"
     ]
    }
   ],
   "source": [
    "import pandas as pd\n",
    "\n",
    "# if running from personal Colab account, get the CSV from Google Drive\n",
    "data_file = \"googleplaystore.csv\"\n",
    "try:\n",
    "    from google.colab import drive\n",
    "    drive.mount(\"/content/drive/\")\n",
    "    data_file = \"/content/drive/My Drive/Year 4 - 2019-20/Semester 7 - Fall 2019/CMSC 471 - 01/Project/datasets/google-play-store-apps/\" + data_file\n",
    "except:\n",
    "    pass\n",
    "\n",
    "app_data = pd.read_csv(data_file)\n",
    "print(app_data.shape)"
   ]
  },
  {
   "cell_type": "code",
   "execution_count": 2,
   "metadata": {
    "colab": {
     "base_uri": "https://localhost:8080/",
     "height": 204
    },
    "colab_type": "code",
    "executionInfo": {
     "elapsed": 547,
     "status": "ok",
     "timestamp": 1575947295898,
     "user": {
      "displayName": "Matt Manzi",
      "photoUrl": "https://lh3.googleusercontent.com/a-/AAuE7mBzrGECYyWaaqJx3oC47M1kmaKT-XWbTl5QTEPW=s64",
      "userId": "17464005290403814327"
     },
     "user_tz": 300
    },
    "id": "D2Sgr4Kq7BhX",
    "outputId": "580a994c-d9bf-40b8-f4d9-514cdc19bc38"
   },
   "outputs": [
    {
     "data": {
      "text/html": [
       "<div>\n",
       "<style scoped>\n",
       "    .dataframe tbody tr th:only-of-type {\n",
       "        vertical-align: middle;\n",
       "    }\n",
       "\n",
       "    .dataframe tbody tr th {\n",
       "        vertical-align: top;\n",
       "    }\n",
       "\n",
       "    .dataframe thead th {\n",
       "        text-align: right;\n",
       "    }\n",
       "</style>\n",
       "<table border=\"1\" class=\"dataframe\">\n",
       "  <thead>\n",
       "    <tr style=\"text-align: right;\">\n",
       "      <th></th>\n",
       "      <th>App</th>\n",
       "      <th>Category</th>\n",
       "      <th>Rating</th>\n",
       "      <th>Reviews</th>\n",
       "      <th>Size</th>\n",
       "      <th>Installs</th>\n",
       "      <th>Type</th>\n",
       "      <th>Price</th>\n",
       "      <th>Content Rating</th>\n",
       "      <th>Genres</th>\n",
       "      <th>Last Updated</th>\n",
       "      <th>Current Ver</th>\n",
       "      <th>Android Ver</th>\n",
       "    </tr>\n",
       "  </thead>\n",
       "  <tbody>\n",
       "    <tr>\n",
       "      <th>0</th>\n",
       "      <td>Photo Editor &amp; Candy Camera &amp; Grid &amp; ScrapBook</td>\n",
       "      <td>ART_AND_DESIGN</td>\n",
       "      <td>4.1</td>\n",
       "      <td>159</td>\n",
       "      <td>19M</td>\n",
       "      <td>10,000+</td>\n",
       "      <td>Free</td>\n",
       "      <td>0</td>\n",
       "      <td>Everyone</td>\n",
       "      <td>Art &amp; Design</td>\n",
       "      <td>January 7, 2018</td>\n",
       "      <td>1.0.0</td>\n",
       "      <td>4.0.3 and up</td>\n",
       "    </tr>\n",
       "    <tr>\n",
       "      <th>1</th>\n",
       "      <td>Coloring book moana</td>\n",
       "      <td>ART_AND_DESIGN</td>\n",
       "      <td>3.9</td>\n",
       "      <td>967</td>\n",
       "      <td>14M</td>\n",
       "      <td>500,000+</td>\n",
       "      <td>Free</td>\n",
       "      <td>0</td>\n",
       "      <td>Everyone</td>\n",
       "      <td>Art &amp; Design;Pretend Play</td>\n",
       "      <td>January 15, 2018</td>\n",
       "      <td>2.0.0</td>\n",
       "      <td>4.0.3 and up</td>\n",
       "    </tr>\n",
       "    <tr>\n",
       "      <th>2</th>\n",
       "      <td>U Launcher Lite – FREE Live Cool Themes, Hide ...</td>\n",
       "      <td>ART_AND_DESIGN</td>\n",
       "      <td>4.7</td>\n",
       "      <td>87510</td>\n",
       "      <td>8.7M</td>\n",
       "      <td>5,000,000+</td>\n",
       "      <td>Free</td>\n",
       "      <td>0</td>\n",
       "      <td>Everyone</td>\n",
       "      <td>Art &amp; Design</td>\n",
       "      <td>August 1, 2018</td>\n",
       "      <td>1.2.4</td>\n",
       "      <td>4.0.3 and up</td>\n",
       "    </tr>\n",
       "    <tr>\n",
       "      <th>3</th>\n",
       "      <td>Sketch - Draw &amp; Paint</td>\n",
       "      <td>ART_AND_DESIGN</td>\n",
       "      <td>4.5</td>\n",
       "      <td>215644</td>\n",
       "      <td>25M</td>\n",
       "      <td>50,000,000+</td>\n",
       "      <td>Free</td>\n",
       "      <td>0</td>\n",
       "      <td>Teen</td>\n",
       "      <td>Art &amp; Design</td>\n",
       "      <td>June 8, 2018</td>\n",
       "      <td>Varies with device</td>\n",
       "      <td>4.2 and up</td>\n",
       "    </tr>\n",
       "    <tr>\n",
       "      <th>4</th>\n",
       "      <td>Pixel Draw - Number Art Coloring Book</td>\n",
       "      <td>ART_AND_DESIGN</td>\n",
       "      <td>4.3</td>\n",
       "      <td>967</td>\n",
       "      <td>2.8M</td>\n",
       "      <td>100,000+</td>\n",
       "      <td>Free</td>\n",
       "      <td>0</td>\n",
       "      <td>Everyone</td>\n",
       "      <td>Art &amp; Design;Creativity</td>\n",
       "      <td>June 20, 2018</td>\n",
       "      <td>1.1</td>\n",
       "      <td>4.4 and up</td>\n",
       "    </tr>\n",
       "  </tbody>\n",
       "</table>\n",
       "</div>"
      ],
      "text/plain": [
       "                                                 App        Category  Rating  \\\n",
       "0     Photo Editor & Candy Camera & Grid & ScrapBook  ART_AND_DESIGN     4.1   \n",
       "1                                Coloring book moana  ART_AND_DESIGN     3.9   \n",
       "2  U Launcher Lite – FREE Live Cool Themes, Hide ...  ART_AND_DESIGN     4.7   \n",
       "3                              Sketch - Draw & Paint  ART_AND_DESIGN     4.5   \n",
       "4              Pixel Draw - Number Art Coloring Book  ART_AND_DESIGN     4.3   \n",
       "\n",
       "  Reviews  Size     Installs  Type Price Content Rating  \\\n",
       "0     159   19M      10,000+  Free     0       Everyone   \n",
       "1     967   14M     500,000+  Free     0       Everyone   \n",
       "2   87510  8.7M   5,000,000+  Free     0       Everyone   \n",
       "3  215644   25M  50,000,000+  Free     0           Teen   \n",
       "4     967  2.8M     100,000+  Free     0       Everyone   \n",
       "\n",
       "                      Genres      Last Updated         Current Ver  \\\n",
       "0               Art & Design   January 7, 2018               1.0.0   \n",
       "1  Art & Design;Pretend Play  January 15, 2018               2.0.0   \n",
       "2               Art & Design    August 1, 2018               1.2.4   \n",
       "3               Art & Design      June 8, 2018  Varies with device   \n",
       "4    Art & Design;Creativity     June 20, 2018                 1.1   \n",
       "\n",
       "    Android Ver  \n",
       "0  4.0.3 and up  \n",
       "1  4.0.3 and up  \n",
       "2  4.0.3 and up  \n",
       "3    4.2 and up  \n",
       "4    4.4 and up  "
      ]
     },
     "execution_count": 2,
     "metadata": {},
     "output_type": "execute_result"
    }
   ],
   "source": [
    "app_data.head()"
   ]
  },
  {
   "cell_type": "markdown",
   "metadata": {
    "colab_type": "text",
    "id": "jQkbnIt-7Bha"
   },
   "source": [
    "## Data Preprocessing"
   ]
  },
  {
   "cell_type": "markdown",
   "metadata": {
    "colab_type": "text",
    "id": "4CIoJX0M7Bhb"
   },
   "source": [
    "- Preprocessing Steps:\n",
    "  - Compute the `NameLen` column\n",
    "  - Compute the `Bytes` column\n",
    "  - Drop the `App`, `Type`, `Size`, `Content Rating`, `Genres`, `Last Updated`, `Current Ver`, and `Android Ver` columns\n",
    "  - Convert the `Rating` and `Price` columns to floats\n",
    "  - Convert the `Reviews` column to integers\n",
    "  - Numerically encode the `Installs` column values\n",
    "  - Numerically encode the `Category` column values\n",
    "\n",
    "- Data Splitting:\n",
    "  - Train/test split: 80% train, 20% test"
   ]
  },
  {
   "cell_type": "code",
   "execution_count": 9,
   "metadata": {
    "colab": {
     "base_uri": "https://localhost:8080/",
     "height": 34
    },
    "colab_type": "code",
    "executionInfo": {
     "elapsed": 534,
     "status": "ok",
     "timestamp": 1575947295899,
     "user": {
      "displayName": "Matt Manzi",
      "photoUrl": "https://lh3.googleusercontent.com/a-/AAuE7mBzrGECYyWaaqJx3oC47M1kmaKT-XWbTl5QTEPW=s64",
      "userId": "17464005290403814327"
     },
     "user_tz": 300
    },
    "id": "QOpAkQxEfyME",
    "outputId": "fdbcfdb5-eaa2-4623-c292-2971a612a7e0"
   },
   "outputs": [
    {
     "data": {
      "text/plain": [
       "'0.21.3'"
      ]
     },
     "execution_count": 9,
     "metadata": {},
     "output_type": "execute_result"
    }
   ],
   "source": [
    "from sklearn.model_selection import train_test_split\n",
    "from keras.utils import np_utils\n",
    "\n",
    "import tensorflow as tf\n",
    "\n",
    "sklearn.__version__"
   ]
  },
  {
   "cell_type": "code",
   "execution_count": 4,
   "metadata": {
    "colab": {
     "base_uri": "https://localhost:8080/",
     "height": 204
    },
    "colab_type": "code",
    "executionInfo": {
     "elapsed": 738,
     "status": "ok",
     "timestamp": 1575947296116,
     "user": {
      "displayName": "Matt Manzi",
      "photoUrl": "https://lh3.googleusercontent.com/a-/AAuE7mBzrGECYyWaaqJx3oC47M1kmaKT-XWbTl5QTEPW=s64",
      "userId": "17464005290403814327"
     },
     "user_tz": 300
    },
    "id": "o7g3m5o77Bhh",
    "outputId": "8764f6ed-bab9-4dce-951c-98acf501b245"
   },
   "outputs": [
    {
     "data": {
      "text/html": [
       "<div>\n",
       "<style scoped>\n",
       "    .dataframe tbody tr th:only-of-type {\n",
       "        vertical-align: middle;\n",
       "    }\n",
       "\n",
       "    .dataframe tbody tr th {\n",
       "        vertical-align: top;\n",
       "    }\n",
       "\n",
       "    .dataframe thead th {\n",
       "        text-align: right;\n",
       "    }\n",
       "</style>\n",
       "<table border=\"1\" class=\"dataframe\">\n",
       "  <thead>\n",
       "    <tr style=\"text-align: right;\">\n",
       "      <th></th>\n",
       "      <th>Category</th>\n",
       "      <th>Rating</th>\n",
       "      <th>Reviews</th>\n",
       "      <th>Installs</th>\n",
       "      <th>Price</th>\n",
       "      <th>NameLen</th>\n",
       "      <th>Bytes</th>\n",
       "    </tr>\n",
       "  </thead>\n",
       "  <tbody>\n",
       "    <tr>\n",
       "      <th>0</th>\n",
       "      <td>0</td>\n",
       "      <td>4.1</td>\n",
       "      <td>159</td>\n",
       "      <td>8</td>\n",
       "      <td>0.0</td>\n",
       "      <td>46</td>\n",
       "      <td>19922944.0</td>\n",
       "    </tr>\n",
       "    <tr>\n",
       "      <th>1</th>\n",
       "      <td>0</td>\n",
       "      <td>3.9</td>\n",
       "      <td>967</td>\n",
       "      <td>11</td>\n",
       "      <td>0.0</td>\n",
       "      <td>19</td>\n",
       "      <td>14680064.0</td>\n",
       "    </tr>\n",
       "    <tr>\n",
       "      <th>2</th>\n",
       "      <td>0</td>\n",
       "      <td>4.7</td>\n",
       "      <td>87510</td>\n",
       "      <td>13</td>\n",
       "      <td>0.0</td>\n",
       "      <td>50</td>\n",
       "      <td>9122611.2</td>\n",
       "    </tr>\n",
       "    <tr>\n",
       "      <th>3</th>\n",
       "      <td>0</td>\n",
       "      <td>4.5</td>\n",
       "      <td>215644</td>\n",
       "      <td>15</td>\n",
       "      <td>0.0</td>\n",
       "      <td>21</td>\n",
       "      <td>26214400.0</td>\n",
       "    </tr>\n",
       "    <tr>\n",
       "      <th>4</th>\n",
       "      <td>0</td>\n",
       "      <td>4.3</td>\n",
       "      <td>967</td>\n",
       "      <td>10</td>\n",
       "      <td>0.0</td>\n",
       "      <td>37</td>\n",
       "      <td>2936012.8</td>\n",
       "    </tr>\n",
       "  </tbody>\n",
       "</table>\n",
       "</div>"
      ],
      "text/plain": [
       "   Category  Rating  Reviews  Installs  Price  NameLen       Bytes\n",
       "0         0     4.1      159         8    0.0       46  19922944.0\n",
       "1         0     3.9      967        11    0.0       19  14680064.0\n",
       "2         0     4.7    87510        13    0.0       50   9122611.2\n",
       "3         0     4.5   215644        15    0.0       21  26214400.0\n",
       "4         0     4.3      967        10    0.0       37   2936012.8"
      ]
     },
     "execution_count": 4,
     "metadata": {},
     "output_type": "execute_result"
    }
   ],
   "source": [
    "# preview dataset\n",
    "# print(\"Original:\")\n",
    "# print(app_data.dtypes)\n",
    "# print(app_data.isna().sum())\n",
    "# print()\n",
    "\n",
    "# compute NameLen\n",
    "app_data[\"NameLen\"] = app_data.App.str.len()\n",
    "\n",
    "# compute Bytes\n",
    "multiplier = {\"M\": 1024**2, \"k\": 1024}\n",
    "def size_convert(value, sclass, multiplier):\n",
    "    return float(value) * multiplier[sclass]\n",
    "app_data = app_data[app_data.Size.str.endswith(tuple(multiplier.keys()))]\n",
    "# print(\"Unique Size classes:\", app_data.Size.str[-1].unique())\n",
    "app_data[\"Bytes\"] = app_data.apply(lambda df: size_convert(df.Size[:-1], df.Size[-1], multiplier), axis=1)\n",
    "\n",
    "# drop unneeded columns\n",
    "drop = [\"App\", \"Size\", \"Type\", \"Content Rating\", \"Genres\", \"Last Updated\",\n",
    "        \"Current Ver\", \"Android Ver\"]\n",
    "app_data.drop(columns=drop, inplace=True)\n",
    "\n",
    "# convert Rating values to floats\n",
    "app_data.Rating = app_data.Rating.astype(float)\n",
    "app_data = app_data[app_data.Rating <= 5.0]\n",
    "# print(\"Unique Rating values:\", app_data.Rating.unique())\n",
    "\n",
    "# convert Price values to floats\n",
    "app_data.Price = app_data.Price.str.strip(\"$\").astype(float)\n",
    "\n",
    "# convert Reviews values to integers\n",
    "app_data.Reviews = app_data.Reviews.astype(int)\n",
    "\n",
    "# encode Installs values\n",
    "app_data.Installs = app_data.Installs.str.strip(\"+\").str.replace(\",\", \"\").astype(int)\n",
    "# print(\"Unique Installs values:\", sorted(app_data.Installs.unique()))\n",
    "app_data.Installs = app_data.Installs.astype(\"category\").cat.codes\n",
    "\n",
    "# encode Category values (numerical)\n",
    "cats = app_data.Category.astype(\"category\").cat\n",
    "app_data.Category = cats.codes\n",
    "categories = {i: cats.categories[i] for i in cats.codes}\n",
    "num_cats = len(categories)\n",
    "# print(num_cats)\n",
    "# print(\"Categories:\", categories)\n",
    "\n",
    "# summarize new dataset\n",
    "# print(\"\\nRevised:\")\n",
    "# print(app_data.dtypes)\n",
    "# print(app_data.isna().sum())\n",
    "# print(app_data.Category.unique())\n",
    "app_data.head()"
   ]
  },
  {
   "cell_type": "code",
   "execution_count": 5,
   "metadata": {
    "colab": {
     "base_uri": "https://localhost:8080/",
     "height": 204
    },
    "colab_type": "code",
    "executionInfo": {
     "elapsed": 923,
     "status": "ok",
     "timestamp": 1575947296316,
     "user": {
      "displayName": "Matt Manzi",
      "photoUrl": "https://lh3.googleusercontent.com/a-/AAuE7mBzrGECYyWaaqJx3oC47M1kmaKT-XWbTl5QTEPW=s64",
      "userId": "17464005290403814327"
     },
     "user_tz": 300
    },
    "id": "KGu83HFz7Bhj",
    "outputId": "b8a86a68-99d7-4c00-9637-40c3d467248b"
   },
   "outputs": [
    {
     "data": {
      "text/html": [
       "<div>\n",
       "<style scoped>\n",
       "    .dataframe tbody tr th:only-of-type {\n",
       "        vertical-align: middle;\n",
       "    }\n",
       "\n",
       "    .dataframe tbody tr th {\n",
       "        vertical-align: top;\n",
       "    }\n",
       "\n",
       "    .dataframe thead th {\n",
       "        text-align: right;\n",
       "    }\n",
       "</style>\n",
       "<table border=\"1\" class=\"dataframe\">\n",
       "  <thead>\n",
       "    <tr style=\"text-align: right;\">\n",
       "      <th></th>\n",
       "      <th>Rating</th>\n",
       "      <th>Reviews</th>\n",
       "      <th>Installs</th>\n",
       "      <th>Price</th>\n",
       "      <th>NameLen</th>\n",
       "      <th>Bytes</th>\n",
       "    </tr>\n",
       "  </thead>\n",
       "  <tbody>\n",
       "    <tr>\n",
       "      <th>0</th>\n",
       "      <td>-0.135617</td>\n",
       "      <td>-0.158066</td>\n",
       "      <td>-0.622296</td>\n",
       "      <td>-0.064801</td>\n",
       "      <td>1.892152</td>\n",
       "      <td>-0.168784</td>\n",
       "    </tr>\n",
       "    <tr>\n",
       "      <th>1</th>\n",
       "      <td>-0.502884</td>\n",
       "      <td>-0.157633</td>\n",
       "      <td>0.311510</td>\n",
       "      <td>-0.064801</td>\n",
       "      <td>-0.322380</td>\n",
       "      <td>-0.382041</td>\n",
       "    </tr>\n",
       "    <tr>\n",
       "      <th>2</th>\n",
       "      <td>0.966185</td>\n",
       "      <td>-0.111185</td>\n",
       "      <td>0.934048</td>\n",
       "      <td>-0.064801</td>\n",
       "      <td>2.220231</td>\n",
       "      <td>-0.608095</td>\n",
       "    </tr>\n",
       "    <tr>\n",
       "      <th>3</th>\n",
       "      <td>0.598918</td>\n",
       "      <td>-0.042415</td>\n",
       "      <td>1.556585</td>\n",
       "      <td>-0.064801</td>\n",
       "      <td>-0.158341</td>\n",
       "      <td>0.087126</td>\n",
       "    </tr>\n",
       "    <tr>\n",
       "      <th>4</th>\n",
       "      <td>0.231651</td>\n",
       "      <td>-0.157633</td>\n",
       "      <td>0.000242</td>\n",
       "      <td>-0.064801</td>\n",
       "      <td>1.153974</td>\n",
       "      <td>-0.859739</td>\n",
       "    </tr>\n",
       "  </tbody>\n",
       "</table>\n",
       "</div>"
      ],
      "text/plain": [
       "     Rating   Reviews  Installs     Price   NameLen     Bytes\n",
       "0 -0.135617 -0.158066 -0.622296 -0.064801  1.892152 -0.168784\n",
       "1 -0.502884 -0.157633  0.311510 -0.064801 -0.322380 -0.382041\n",
       "2  0.966185 -0.111185  0.934048 -0.064801  2.220231 -0.608095\n",
       "3  0.598918 -0.042415  1.556585 -0.064801 -0.158341  0.087126\n",
       "4  0.231651 -0.157633  0.000242 -0.064801  1.153974 -0.859739"
      ]
     },
     "execution_count": 5,
     "metadata": {},
     "output_type": "execute_result"
    }
   ],
   "source": [
    "# separate\n",
    "X = app_data[[\"Rating\", \"Reviews\", \"Installs\", \"Price\", \"NameLen\", \"Bytes\"]]\n",
    "y = app_data[\"Category\"]\n",
    "y_cat = np_utils.to_categorical(app_data[\"Category\"], num_classes=num_cats)\n",
    "\n",
    "# normalize\n",
    "X = (X - X.mean()) / X.std()\n",
    "\n",
    "# split to train/test sets\n",
    "X_train, X_test, y_train, y_test = train_test_split(X, y, test_size=0.2, random_state=69)\n",
    "\n",
    "# do more for NN datasets\n",
    "_, _, y_train_cat, y_test_cat = train_test_split(X, y_cat, test_size=0.2, random_state=69)\n",
    "train_tensor = tf.data.Dataset.from_tensor_slices((X_train.values, y_train_cat))\n",
    "test_tensor = tf.data.Dataset.from_tensor_slices((X_test.values, y_test_cat))\n",
    "\n",
    "train_batch = train_tensor.shuffle(len(X_train)).batch(5)\n",
    "test_batch = test_tensor.shuffle(len(X_test)).batch(5)\n",
    "\n",
    "# summarize\n",
    "X.head()"
   ]
  },
  {
   "cell_type": "markdown",
   "metadata": {
    "colab_type": "text",
    "id": "HpHbfoER7Bhm"
   },
   "source": [
    "\n",
    "## Methods\n",
    "\n",
    "Sklearn Method No.1: Random Forest Classification\n",
    "\n",
    "Sklearn Method No.2: Logistic Regression\n",
    "\n",
    "Tensorflow Method: Multi-Layer Perceptron Neural Network"
   ]
  },
  {
   "cell_type": "code",
   "execution_count": 6,
   "metadata": {
    "colab": {
     "base_uri": "https://localhost:8080/",
     "height": 34
    },
    "colab_type": "code",
    "executionInfo": {
     "elapsed": 921,
     "status": "ok",
     "timestamp": 1575947296317,
     "user": {
      "displayName": "Matt Manzi",
      "photoUrl": "https://lh3.googleusercontent.com/a-/AAuE7mBzrGECYyWaaqJx3oC47M1kmaKT-XWbTl5QTEPW=s64",
      "userId": "17464005290403814327"
     },
     "user_tz": 300
    },
    "id": "Q4EqgsTN7Bhn",
    "outputId": "9f696cd3-9b40-46b2-a028-3c89ec61df9f"
   },
   "outputs": [],
   "source": [
    "import sklearn\n",
    "from sklearn.ensemble import RandomForestClassifier\n",
    "from sklearn.linear_model import LogisticRegression\n",
    "from sklearn.metrics import roc_auc_score\n",
    "import tensorflow as tf\n",
    "\n",
    "# for tuning\n",
    "import matplotlib.pyplot as plt\n",
    "from statistics import mean\n",
    "\n",
    "# easy testing flag to see verbose output\n",
    "VERBOSE=0"
   ]
  },
  {
   "cell_type": "markdown",
   "metadata": {
    "colab_type": "text",
    "id": "u7BwsSe8ouyy"
   },
   "source": [
    "### Random Forest Classification Model"
   ]
  },
  {
   "cell_type": "code",
   "execution_count": 7,
   "metadata": {
    "colab": {
     "base_uri": "https://localhost:8080/",
     "height": 136
    },
    "colab_type": "code",
    "executionInfo": {
     "elapsed": 1658,
     "status": "ok",
     "timestamp": 1575947297056,
     "user": {
      "displayName": "Matt Manzi",
      "photoUrl": "https://lh3.googleusercontent.com/a-/AAuE7mBzrGECYyWaaqJx3oC47M1kmaKT-XWbTl5QTEPW=s64",
      "userId": "17464005290403814327"
     },
     "user_tz": 300
    },
    "id": "6116ryLh7Bhp",
    "outputId": "3cba0f6a-e190-4543-e8ac-de579e64cf74"
   },
   "outputs": [
    {
     "name": "stdout",
     "output_type": "stream",
     "text": [
      "RF Accuracy: 0.315006468305304\n"
     ]
    }
   ],
   "source": [
    "def run_rf(n_estimators=num_cats):\n",
    "    rf_model = RandomForestClassifier(n_estimators=n_estimators, random_state=69, verbose=VERBOSE)\n",
    "    rf_model.fit(X_train, y_train)\n",
    "    return rf_model\n",
    "\n",
    "# sample run\n",
    "m = run_rf()\n",
    "prob = m.predict_proba(X_test)\n",
    "if int(sklearn.__version__.split(\".\")[1]) >= 22:\n",
    "    print(\"RF Accuracy:\", m.score(X_test, y_test), \"RF AUC:\", roc_auc_score(y_test, prob, multi_class=\"ovr\"))\n",
    "else:\n",
    "    print(\"RF Accuracy:\", m.score(X_test, y_test))"
   ]
  },
  {
   "cell_type": "markdown",
   "metadata": {
    "colab_type": "text",
    "id": "wN2TbIx4vZT-"
   },
   "source": [
    "#### Estimator Count Tuning"
   ]
  },
  {
   "cell_type": "code",
   "execution_count": 8,
   "metadata": {
    "colab": {
     "base_uri": "https://localhost:8080/",
     "height": 1000
    },
    "colab_type": "code",
    "executionInfo": {
     "elapsed": 32212,
     "status": "ok",
     "timestamp": 1575947327612,
     "user": {
      "displayName": "Matt Manzi",
      "photoUrl": "https://lh3.googleusercontent.com/a-/AAuE7mBzrGECYyWaaqJx3oC47M1kmaKT-XWbTl5QTEPW=s64",
      "userId": "17464005290403814327"
     },
     "user_tz": 300
    },
    "id": "YKEWpUbIr3Ye",
    "outputId": "a31f3b72-7e31-441b-e75c-63240e27e6f0"
   },
   "outputs": [
    {
     "ename": "KeyboardInterrupt",
     "evalue": "",
     "output_type": "error",
     "traceback": [
      "\u001b[0;31m---------------------------------------------------------------------------\u001b[0m",
      "\u001b[0;31mKeyboardInterrupt\u001b[0m                         Traceback (most recent call last)",
      "\u001b[0;32m<ipython-input-8-03b93631ded5>\u001b[0m in \u001b[0;36m<module>\u001b[0;34m\u001b[0m\n\u001b[1;32m      3\u001b[0m \u001b[0mmaxx_rf\u001b[0m \u001b[0;34m=\u001b[0m \u001b[0;34m(\u001b[0m\u001b[0;36m0\u001b[0m\u001b[0;34m,\u001b[0m \u001b[0;36m0\u001b[0m\u001b[0;34m)\u001b[0m\u001b[0;34m\u001b[0m\u001b[0;34m\u001b[0m\u001b[0m\n\u001b[1;32m      4\u001b[0m \u001b[0;32mfor\u001b[0m \u001b[0mest\u001b[0m \u001b[0;32min\u001b[0m \u001b[0mrange_est\u001b[0m\u001b[0;34m:\u001b[0m\u001b[0;34m\u001b[0m\u001b[0;34m\u001b[0m\u001b[0m\n\u001b[0;32m----> 5\u001b[0;31m     \u001b[0mm\u001b[0m \u001b[0;34m=\u001b[0m \u001b[0mrun_rf\u001b[0m\u001b[0;34m(\u001b[0m\u001b[0mest\u001b[0m\u001b[0;34m)\u001b[0m\u001b[0;34m\u001b[0m\u001b[0;34m\u001b[0m\u001b[0m\n\u001b[0m\u001b[1;32m      6\u001b[0m     \u001b[0ma\u001b[0m \u001b[0;34m=\u001b[0m \u001b[0mm\u001b[0m\u001b[0;34m.\u001b[0m\u001b[0mscore\u001b[0m\u001b[0;34m(\u001b[0m\u001b[0mX_test\u001b[0m\u001b[0;34m,\u001b[0m \u001b[0my_test\u001b[0m\u001b[0;34m)\u001b[0m\u001b[0;34m\u001b[0m\u001b[0;34m\u001b[0m\u001b[0m\n\u001b[1;32m      7\u001b[0m     \u001b[0mrf_acc\u001b[0m\u001b[0;34m.\u001b[0m\u001b[0mappend\u001b[0m\u001b[0;34m(\u001b[0m\u001b[0ma\u001b[0m\u001b[0;34m)\u001b[0m\u001b[0;34m\u001b[0m\u001b[0;34m\u001b[0m\u001b[0m\n",
      "\u001b[0;32m<ipython-input-7-fbe8b400dbc3>\u001b[0m in \u001b[0;36mrun_rf\u001b[0;34m(n_estimators)\u001b[0m\n\u001b[1;32m      1\u001b[0m \u001b[0;32mdef\u001b[0m \u001b[0mrun_rf\u001b[0m\u001b[0;34m(\u001b[0m\u001b[0mn_estimators\u001b[0m\u001b[0;34m=\u001b[0m\u001b[0mnum_cats\u001b[0m\u001b[0;34m)\u001b[0m\u001b[0;34m:\u001b[0m\u001b[0;34m\u001b[0m\u001b[0;34m\u001b[0m\u001b[0m\n\u001b[1;32m      2\u001b[0m     \u001b[0mrf_model\u001b[0m \u001b[0;34m=\u001b[0m \u001b[0mRandomForestClassifier\u001b[0m\u001b[0;34m(\u001b[0m\u001b[0mn_estimators\u001b[0m\u001b[0;34m=\u001b[0m\u001b[0mn_estimators\u001b[0m\u001b[0;34m,\u001b[0m \u001b[0mrandom_state\u001b[0m\u001b[0;34m=\u001b[0m\u001b[0;36m69\u001b[0m\u001b[0;34m,\u001b[0m \u001b[0mverbose\u001b[0m\u001b[0;34m=\u001b[0m\u001b[0mVERBOSE\u001b[0m\u001b[0;34m)\u001b[0m\u001b[0;34m\u001b[0m\u001b[0;34m\u001b[0m\u001b[0m\n\u001b[0;32m----> 3\u001b[0;31m     \u001b[0mrf_model\u001b[0m\u001b[0;34m.\u001b[0m\u001b[0mfit\u001b[0m\u001b[0;34m(\u001b[0m\u001b[0mX_train\u001b[0m\u001b[0;34m,\u001b[0m \u001b[0my_train\u001b[0m\u001b[0;34m)\u001b[0m\u001b[0;34m\u001b[0m\u001b[0;34m\u001b[0m\u001b[0m\n\u001b[0m\u001b[1;32m      4\u001b[0m     \u001b[0;32mreturn\u001b[0m \u001b[0mrf_model\u001b[0m\u001b[0;34m\u001b[0m\u001b[0;34m\u001b[0m\u001b[0m\n\u001b[1;32m      5\u001b[0m \u001b[0;34m\u001b[0m\u001b[0m\n",
      "\u001b[0;32m~/.local/lib/python3.6/site-packages/sklearn/ensemble/forest.py\u001b[0m in \u001b[0;36mfit\u001b[0;34m(self, X, y, sample_weight)\u001b[0m\n\u001b[1;32m    328\u001b[0m                     \u001b[0mt\u001b[0m\u001b[0;34m,\u001b[0m \u001b[0mself\u001b[0m\u001b[0;34m,\u001b[0m \u001b[0mX\u001b[0m\u001b[0;34m,\u001b[0m \u001b[0my\u001b[0m\u001b[0;34m,\u001b[0m \u001b[0msample_weight\u001b[0m\u001b[0;34m,\u001b[0m \u001b[0mi\u001b[0m\u001b[0;34m,\u001b[0m \u001b[0mlen\u001b[0m\u001b[0;34m(\u001b[0m\u001b[0mtrees\u001b[0m\u001b[0;34m)\u001b[0m\u001b[0;34m,\u001b[0m\u001b[0;34m\u001b[0m\u001b[0;34m\u001b[0m\u001b[0m\n\u001b[1;32m    329\u001b[0m                     verbose=self.verbose, class_weight=self.class_weight)\n\u001b[0;32m--> 330\u001b[0;31m                 for i, t in enumerate(trees))\n\u001b[0m\u001b[1;32m    331\u001b[0m \u001b[0;34m\u001b[0m\u001b[0m\n\u001b[1;32m    332\u001b[0m             \u001b[0;31m# Collect newly grown trees\u001b[0m\u001b[0;34m\u001b[0m\u001b[0;34m\u001b[0m\u001b[0;34m\u001b[0m\u001b[0m\n",
      "\u001b[0;32m~/.local/lib/python3.6/site-packages/joblib/parallel.py\u001b[0m in \u001b[0;36m__call__\u001b[0;34m(self, iterable)\u001b[0m\n\u001b[1;32m    922\u001b[0m                 \u001b[0mself\u001b[0m\u001b[0;34m.\u001b[0m\u001b[0m_iterating\u001b[0m \u001b[0;34m=\u001b[0m \u001b[0mself\u001b[0m\u001b[0;34m.\u001b[0m\u001b[0m_original_iterator\u001b[0m \u001b[0;32mis\u001b[0m \u001b[0;32mnot\u001b[0m \u001b[0;32mNone\u001b[0m\u001b[0;34m\u001b[0m\u001b[0;34m\u001b[0m\u001b[0m\n\u001b[1;32m    923\u001b[0m \u001b[0;34m\u001b[0m\u001b[0m\n\u001b[0;32m--> 924\u001b[0;31m             \u001b[0;32mwhile\u001b[0m \u001b[0mself\u001b[0m\u001b[0;34m.\u001b[0m\u001b[0mdispatch_one_batch\u001b[0m\u001b[0;34m(\u001b[0m\u001b[0miterator\u001b[0m\u001b[0;34m)\u001b[0m\u001b[0;34m:\u001b[0m\u001b[0;34m\u001b[0m\u001b[0;34m\u001b[0m\u001b[0m\n\u001b[0m\u001b[1;32m    925\u001b[0m                 \u001b[0;32mpass\u001b[0m\u001b[0;34m\u001b[0m\u001b[0;34m\u001b[0m\u001b[0m\n\u001b[1;32m    926\u001b[0m \u001b[0;34m\u001b[0m\u001b[0m\n",
      "\u001b[0;32m~/.local/lib/python3.6/site-packages/joblib/parallel.py\u001b[0m in \u001b[0;36mdispatch_one_batch\u001b[0;34m(self, iterator)\u001b[0m\n\u001b[1;32m    757\u001b[0m                 \u001b[0;32mreturn\u001b[0m \u001b[0;32mFalse\u001b[0m\u001b[0;34m\u001b[0m\u001b[0;34m\u001b[0m\u001b[0m\n\u001b[1;32m    758\u001b[0m             \u001b[0;32melse\u001b[0m\u001b[0;34m:\u001b[0m\u001b[0;34m\u001b[0m\u001b[0;34m\u001b[0m\u001b[0m\n\u001b[0;32m--> 759\u001b[0;31m                 \u001b[0mself\u001b[0m\u001b[0;34m.\u001b[0m\u001b[0m_dispatch\u001b[0m\u001b[0;34m(\u001b[0m\u001b[0mtasks\u001b[0m\u001b[0;34m)\u001b[0m\u001b[0;34m\u001b[0m\u001b[0;34m\u001b[0m\u001b[0m\n\u001b[0m\u001b[1;32m    760\u001b[0m                 \u001b[0;32mreturn\u001b[0m \u001b[0;32mTrue\u001b[0m\u001b[0;34m\u001b[0m\u001b[0;34m\u001b[0m\u001b[0m\n\u001b[1;32m    761\u001b[0m \u001b[0;34m\u001b[0m\u001b[0m\n",
      "\u001b[0;32m~/.local/lib/python3.6/site-packages/joblib/parallel.py\u001b[0m in \u001b[0;36m_dispatch\u001b[0;34m(self, batch)\u001b[0m\n\u001b[1;32m    714\u001b[0m         \u001b[0;32mwith\u001b[0m \u001b[0mself\u001b[0m\u001b[0;34m.\u001b[0m\u001b[0m_lock\u001b[0m\u001b[0;34m:\u001b[0m\u001b[0;34m\u001b[0m\u001b[0;34m\u001b[0m\u001b[0m\n\u001b[1;32m    715\u001b[0m             \u001b[0mjob_idx\u001b[0m \u001b[0;34m=\u001b[0m \u001b[0mlen\u001b[0m\u001b[0;34m(\u001b[0m\u001b[0mself\u001b[0m\u001b[0;34m.\u001b[0m\u001b[0m_jobs\u001b[0m\u001b[0;34m)\u001b[0m\u001b[0;34m\u001b[0m\u001b[0;34m\u001b[0m\u001b[0m\n\u001b[0;32m--> 716\u001b[0;31m             \u001b[0mjob\u001b[0m \u001b[0;34m=\u001b[0m \u001b[0mself\u001b[0m\u001b[0;34m.\u001b[0m\u001b[0m_backend\u001b[0m\u001b[0;34m.\u001b[0m\u001b[0mapply_async\u001b[0m\u001b[0;34m(\u001b[0m\u001b[0mbatch\u001b[0m\u001b[0;34m,\u001b[0m \u001b[0mcallback\u001b[0m\u001b[0;34m=\u001b[0m\u001b[0mcb\u001b[0m\u001b[0;34m)\u001b[0m\u001b[0;34m\u001b[0m\u001b[0;34m\u001b[0m\u001b[0m\n\u001b[0m\u001b[1;32m    717\u001b[0m             \u001b[0;31m# A job can complete so quickly than its callback is\u001b[0m\u001b[0;34m\u001b[0m\u001b[0;34m\u001b[0m\u001b[0;34m\u001b[0m\u001b[0m\n\u001b[1;32m    718\u001b[0m             \u001b[0;31m# called before we get here, causing self._jobs to\u001b[0m\u001b[0;34m\u001b[0m\u001b[0;34m\u001b[0m\u001b[0;34m\u001b[0m\u001b[0m\n",
      "\u001b[0;32m~/.local/lib/python3.6/site-packages/joblib/_parallel_backends.py\u001b[0m in \u001b[0;36mapply_async\u001b[0;34m(self, func, callback)\u001b[0m\n\u001b[1;32m    180\u001b[0m     \u001b[0;32mdef\u001b[0m \u001b[0mapply_async\u001b[0m\u001b[0;34m(\u001b[0m\u001b[0mself\u001b[0m\u001b[0;34m,\u001b[0m \u001b[0mfunc\u001b[0m\u001b[0;34m,\u001b[0m \u001b[0mcallback\u001b[0m\u001b[0;34m=\u001b[0m\u001b[0;32mNone\u001b[0m\u001b[0;34m)\u001b[0m\u001b[0;34m:\u001b[0m\u001b[0;34m\u001b[0m\u001b[0;34m\u001b[0m\u001b[0m\n\u001b[1;32m    181\u001b[0m         \u001b[0;34m\"\"\"Schedule a func to be run\"\"\"\u001b[0m\u001b[0;34m\u001b[0m\u001b[0;34m\u001b[0m\u001b[0m\n\u001b[0;32m--> 182\u001b[0;31m         \u001b[0mresult\u001b[0m \u001b[0;34m=\u001b[0m \u001b[0mImmediateResult\u001b[0m\u001b[0;34m(\u001b[0m\u001b[0mfunc\u001b[0m\u001b[0;34m)\u001b[0m\u001b[0;34m\u001b[0m\u001b[0;34m\u001b[0m\u001b[0m\n\u001b[0m\u001b[1;32m    183\u001b[0m         \u001b[0;32mif\u001b[0m \u001b[0mcallback\u001b[0m\u001b[0;34m:\u001b[0m\u001b[0;34m\u001b[0m\u001b[0;34m\u001b[0m\u001b[0m\n\u001b[1;32m    184\u001b[0m             \u001b[0mcallback\u001b[0m\u001b[0;34m(\u001b[0m\u001b[0mresult\u001b[0m\u001b[0;34m)\u001b[0m\u001b[0;34m\u001b[0m\u001b[0;34m\u001b[0m\u001b[0m\n",
      "\u001b[0;32m~/.local/lib/python3.6/site-packages/joblib/_parallel_backends.py\u001b[0m in \u001b[0;36m__init__\u001b[0;34m(self, batch)\u001b[0m\n\u001b[1;32m    547\u001b[0m         \u001b[0;31m# Don't delay the application, to avoid keeping the input\u001b[0m\u001b[0;34m\u001b[0m\u001b[0;34m\u001b[0m\u001b[0;34m\u001b[0m\u001b[0m\n\u001b[1;32m    548\u001b[0m         \u001b[0;31m# arguments in memory\u001b[0m\u001b[0;34m\u001b[0m\u001b[0;34m\u001b[0m\u001b[0;34m\u001b[0m\u001b[0m\n\u001b[0;32m--> 549\u001b[0;31m         \u001b[0mself\u001b[0m\u001b[0;34m.\u001b[0m\u001b[0mresults\u001b[0m \u001b[0;34m=\u001b[0m \u001b[0mbatch\u001b[0m\u001b[0;34m(\u001b[0m\u001b[0;34m)\u001b[0m\u001b[0;34m\u001b[0m\u001b[0;34m\u001b[0m\u001b[0m\n\u001b[0m\u001b[1;32m    550\u001b[0m \u001b[0;34m\u001b[0m\u001b[0m\n\u001b[1;32m    551\u001b[0m     \u001b[0;32mdef\u001b[0m \u001b[0mget\u001b[0m\u001b[0;34m(\u001b[0m\u001b[0mself\u001b[0m\u001b[0;34m)\u001b[0m\u001b[0;34m:\u001b[0m\u001b[0;34m\u001b[0m\u001b[0;34m\u001b[0m\u001b[0m\n",
      "\u001b[0;32m~/.local/lib/python3.6/site-packages/joblib/parallel.py\u001b[0m in \u001b[0;36m__call__\u001b[0;34m(self)\u001b[0m\n\u001b[1;32m    223\u001b[0m         \u001b[0;32mwith\u001b[0m \u001b[0mparallel_backend\u001b[0m\u001b[0;34m(\u001b[0m\u001b[0mself\u001b[0m\u001b[0;34m.\u001b[0m\u001b[0m_backend\u001b[0m\u001b[0;34m,\u001b[0m \u001b[0mn_jobs\u001b[0m\u001b[0;34m=\u001b[0m\u001b[0mself\u001b[0m\u001b[0;34m.\u001b[0m\u001b[0m_n_jobs\u001b[0m\u001b[0;34m)\u001b[0m\u001b[0;34m:\u001b[0m\u001b[0;34m\u001b[0m\u001b[0;34m\u001b[0m\u001b[0m\n\u001b[1;32m    224\u001b[0m             return [func(*args, **kwargs)\n\u001b[0;32m--> 225\u001b[0;31m                     for func, args, kwargs in self.items]\n\u001b[0m\u001b[1;32m    226\u001b[0m \u001b[0;34m\u001b[0m\u001b[0m\n\u001b[1;32m    227\u001b[0m     \u001b[0;32mdef\u001b[0m \u001b[0m__len__\u001b[0m\u001b[0;34m(\u001b[0m\u001b[0mself\u001b[0m\u001b[0;34m)\u001b[0m\u001b[0;34m:\u001b[0m\u001b[0;34m\u001b[0m\u001b[0;34m\u001b[0m\u001b[0m\n",
      "\u001b[0;32m~/.local/lib/python3.6/site-packages/joblib/parallel.py\u001b[0m in \u001b[0;36m<listcomp>\u001b[0;34m(.0)\u001b[0m\n\u001b[1;32m    223\u001b[0m         \u001b[0;32mwith\u001b[0m \u001b[0mparallel_backend\u001b[0m\u001b[0;34m(\u001b[0m\u001b[0mself\u001b[0m\u001b[0;34m.\u001b[0m\u001b[0m_backend\u001b[0m\u001b[0;34m,\u001b[0m \u001b[0mn_jobs\u001b[0m\u001b[0;34m=\u001b[0m\u001b[0mself\u001b[0m\u001b[0;34m.\u001b[0m\u001b[0m_n_jobs\u001b[0m\u001b[0;34m)\u001b[0m\u001b[0;34m:\u001b[0m\u001b[0;34m\u001b[0m\u001b[0;34m\u001b[0m\u001b[0m\n\u001b[1;32m    224\u001b[0m             return [func(*args, **kwargs)\n\u001b[0;32m--> 225\u001b[0;31m                     for func, args, kwargs in self.items]\n\u001b[0m\u001b[1;32m    226\u001b[0m \u001b[0;34m\u001b[0m\u001b[0m\n\u001b[1;32m    227\u001b[0m     \u001b[0;32mdef\u001b[0m \u001b[0m__len__\u001b[0m\u001b[0;34m(\u001b[0m\u001b[0mself\u001b[0m\u001b[0;34m)\u001b[0m\u001b[0;34m:\u001b[0m\u001b[0;34m\u001b[0m\u001b[0;34m\u001b[0m\u001b[0m\n",
      "\u001b[0;32m~/.local/lib/python3.6/site-packages/sklearn/ensemble/forest.py\u001b[0m in \u001b[0;36m_parallel_build_trees\u001b[0;34m(tree, forest, X, y, sample_weight, tree_idx, n_trees, verbose, class_weight)\u001b[0m\n\u001b[1;32m    116\u001b[0m             \u001b[0mcurr_sample_weight\u001b[0m \u001b[0;34m*=\u001b[0m \u001b[0mcompute_sample_weight\u001b[0m\u001b[0;34m(\u001b[0m\u001b[0;34m'balanced'\u001b[0m\u001b[0;34m,\u001b[0m \u001b[0my\u001b[0m\u001b[0;34m,\u001b[0m \u001b[0mindices\u001b[0m\u001b[0;34m)\u001b[0m\u001b[0;34m\u001b[0m\u001b[0;34m\u001b[0m\u001b[0m\n\u001b[1;32m    117\u001b[0m \u001b[0;34m\u001b[0m\u001b[0m\n\u001b[0;32m--> 118\u001b[0;31m         \u001b[0mtree\u001b[0m\u001b[0;34m.\u001b[0m\u001b[0mfit\u001b[0m\u001b[0;34m(\u001b[0m\u001b[0mX\u001b[0m\u001b[0;34m,\u001b[0m \u001b[0my\u001b[0m\u001b[0;34m,\u001b[0m \u001b[0msample_weight\u001b[0m\u001b[0;34m=\u001b[0m\u001b[0mcurr_sample_weight\u001b[0m\u001b[0;34m,\u001b[0m \u001b[0mcheck_input\u001b[0m\u001b[0;34m=\u001b[0m\u001b[0;32mFalse\u001b[0m\u001b[0;34m)\u001b[0m\u001b[0;34m\u001b[0m\u001b[0;34m\u001b[0m\u001b[0m\n\u001b[0m\u001b[1;32m    119\u001b[0m     \u001b[0;32melse\u001b[0m\u001b[0;34m:\u001b[0m\u001b[0;34m\u001b[0m\u001b[0;34m\u001b[0m\u001b[0m\n\u001b[1;32m    120\u001b[0m         \u001b[0mtree\u001b[0m\u001b[0;34m.\u001b[0m\u001b[0mfit\u001b[0m\u001b[0;34m(\u001b[0m\u001b[0mX\u001b[0m\u001b[0;34m,\u001b[0m \u001b[0my\u001b[0m\u001b[0;34m,\u001b[0m \u001b[0msample_weight\u001b[0m\u001b[0;34m=\u001b[0m\u001b[0msample_weight\u001b[0m\u001b[0;34m,\u001b[0m \u001b[0mcheck_input\u001b[0m\u001b[0;34m=\u001b[0m\u001b[0;32mFalse\u001b[0m\u001b[0;34m)\u001b[0m\u001b[0;34m\u001b[0m\u001b[0;34m\u001b[0m\u001b[0m\n",
      "\u001b[0;32m~/.local/lib/python3.6/site-packages/sklearn/tree/tree.py\u001b[0m in \u001b[0;36mfit\u001b[0;34m(self, X, y, sample_weight, check_input, X_idx_sorted)\u001b[0m\n\u001b[1;32m    814\u001b[0m             \u001b[0msample_weight\u001b[0m\u001b[0;34m=\u001b[0m\u001b[0msample_weight\u001b[0m\u001b[0;34m,\u001b[0m\u001b[0;34m\u001b[0m\u001b[0;34m\u001b[0m\u001b[0m\n\u001b[1;32m    815\u001b[0m             \u001b[0mcheck_input\u001b[0m\u001b[0;34m=\u001b[0m\u001b[0mcheck_input\u001b[0m\u001b[0;34m,\u001b[0m\u001b[0;34m\u001b[0m\u001b[0;34m\u001b[0m\u001b[0m\n\u001b[0;32m--> 816\u001b[0;31m             X_idx_sorted=X_idx_sorted)\n\u001b[0m\u001b[1;32m    817\u001b[0m         \u001b[0;32mreturn\u001b[0m \u001b[0mself\u001b[0m\u001b[0;34m\u001b[0m\u001b[0;34m\u001b[0m\u001b[0m\n\u001b[1;32m    818\u001b[0m \u001b[0;34m\u001b[0m\u001b[0m\n",
      "\u001b[0;32m~/.local/lib/python3.6/site-packages/sklearn/tree/tree.py\u001b[0m in \u001b[0;36mfit\u001b[0;34m(self, X, y, sample_weight, check_input, X_idx_sorted)\u001b[0m\n\u001b[1;32m    378\u001b[0m                                            min_impurity_split)\n\u001b[1;32m    379\u001b[0m \u001b[0;34m\u001b[0m\u001b[0m\n\u001b[0;32m--> 380\u001b[0;31m         \u001b[0mbuilder\u001b[0m\u001b[0;34m.\u001b[0m\u001b[0mbuild\u001b[0m\u001b[0;34m(\u001b[0m\u001b[0mself\u001b[0m\u001b[0;34m.\u001b[0m\u001b[0mtree_\u001b[0m\u001b[0;34m,\u001b[0m \u001b[0mX\u001b[0m\u001b[0;34m,\u001b[0m \u001b[0my\u001b[0m\u001b[0;34m,\u001b[0m \u001b[0msample_weight\u001b[0m\u001b[0;34m,\u001b[0m \u001b[0mX_idx_sorted\u001b[0m\u001b[0;34m)\u001b[0m\u001b[0;34m\u001b[0m\u001b[0;34m\u001b[0m\u001b[0m\n\u001b[0m\u001b[1;32m    381\u001b[0m \u001b[0;34m\u001b[0m\u001b[0m\n\u001b[1;32m    382\u001b[0m         \u001b[0;32mif\u001b[0m \u001b[0mself\u001b[0m\u001b[0;34m.\u001b[0m\u001b[0mn_outputs_\u001b[0m \u001b[0;34m==\u001b[0m \u001b[0;36m1\u001b[0m\u001b[0;34m:\u001b[0m\u001b[0;34m\u001b[0m\u001b[0;34m\u001b[0m\u001b[0m\n",
      "\u001b[0;31mKeyboardInterrupt\u001b[0m: "
     ]
    }
   ],
   "source": [
    "range_est = range(num_cats, num_cats*11, num_cats)\n",
    "rf_acc = []\n",
    "maxx_rf = (0, 0)\n",
    "for est in range_est:\n",
    "    m = run_rf(est)\n",
    "    a = m.score(X_test, y_test)\n",
    "    rf_acc.append(a)\n",
    "    if a > maxx_rf[0]:\n",
    "        maxx_rf = (a, est)\n",
    "print(\"Best Run:\", maxx_rf)\n",
    "plt.title(\"Accuracy vs. Number of Estimators\")\n",
    "plt.xlabel(\"n_estimators\")\n",
    "plt.ylabel(\"Accuracy\")\n",
    "plt.plot(range_est, rf_acc)"
   ]
  },
  {
   "cell_type": "markdown",
   "metadata": {
    "colab_type": "text",
    "id": "CJD_3EkIpKi0"
   },
   "source": [
    "### Logistic Regression Classification Model"
   ]
  },
  {
   "cell_type": "code",
   "execution_count": null,
   "metadata": {
    "colab": {
     "base_uri": "https://localhost:8080/",
     "height": 119
    },
    "colab_type": "code",
    "executionInfo": {
     "elapsed": 34024,
     "status": "ok",
     "timestamp": 1575947329427,
     "user": {
      "displayName": "Matt Manzi",
      "photoUrl": "https://lh3.googleusercontent.com/a-/AAuE7mBzrGECYyWaaqJx3oC47M1kmaKT-XWbTl5QTEPW=s64",
      "userId": "17464005290403814327"
     },
     "user_tz": 300
    },
    "id": "_Tc6heLb7Bht",
    "outputId": "b02042a6-896e-4a3b-fbba-5c005b83b40d"
   },
   "outputs": [],
   "source": [
    "def run_lr(max_iter=100):\n",
    "    lr_model = LogisticRegression(penalty=\"l2\", solver=\"saga\", max_iter=max_iter, multi_class=\"auto\", verbose=VERBOSE)\n",
    "    lr_model.fit(X_train, y_train)\n",
    "    return lr_model\n",
    "\n",
    "# sample run\n",
    "m = run_lr()\n",
    "prob = m.predict_proba(X_test)\n",
    "if int(sklearn.__version__.split(\".\")[1]) >= 22:\n",
    "    print(\"LR Accuracy:\", m.score(X_test, y_test), \"LR AUC:\", roc_auc_score(y_test, prob, multi_class=\"ovr\"))\n",
    "else:\n",
    "    print(\"LR Accuracy:\", m.score(X_test, y_test))"
   ]
  },
  {
   "cell_type": "markdown",
   "metadata": {
    "colab_type": "text",
    "id": "hz6wJ8fDvU6E"
   },
   "source": [
    "#### Maximum Iteration Tuning"
   ]
  },
  {
   "cell_type": "code",
   "execution_count": null,
   "metadata": {
    "colab": {
     "base_uri": "https://localhost:8080/",
     "height": 1000
    },
    "colab_type": "code",
    "executionInfo": {
     "elapsed": 61623,
     "status": "ok",
     "timestamp": 1575947357028,
     "user": {
      "displayName": "Matt Manzi",
      "photoUrl": "https://lh3.googleusercontent.com/a-/AAuE7mBzrGECYyWaaqJx3oC47M1kmaKT-XWbTl5QTEPW=s64",
      "userId": "17464005290403814327"
     },
     "user_tz": 300
    },
    "id": "lRYVa-bDr3vD",
    "outputId": "ff8607d2-b385-40e7-d581-e84c9aa45beb"
   },
   "outputs": [],
   "source": [
    "range_iter = range(100, 201, 10)\n",
    "lr_acc = []\n",
    "maxx_lr = (0, 0)\n",
    "for m_iter in range_iter:\n",
    "    m = run_lr(m_iter)\n",
    "    a = m.score(X_test, y_test)\n",
    "    lr_acc.append(a)\n",
    "    if a > maxx_lr[0]:\n",
    "        maxx_lr = (a, m_iter)\n",
    "print(\"Best Run:\", maxx_lr)\n",
    "plt.title(\"Accuracy vs. Maximum Iterations\")\n",
    "plt.xlabel(\"max_iter\")\n",
    "plt.ylabel(\"Accuracy\")\n",
    "plt.plot(range_iter, lr_acc)"
   ]
  },
  {
   "cell_type": "markdown",
   "metadata": {
    "colab_type": "text",
    "id": "fUuu4-s7pQnX"
   },
   "source": [
    "### Neural Network Classification Model"
   ]
  },
  {
   "cell_type": "code",
   "execution_count": null,
   "metadata": {
    "colab": {
     "base_uri": "https://localhost:8080/",
     "height": 391
    },
    "colab_type": "code",
    "executionInfo": {
     "elapsed": 130201,
     "status": "ok",
     "timestamp": 1575947425609,
     "user": {
      "displayName": "Matt Manzi",
      "photoUrl": "https://lh3.googleusercontent.com/a-/AAuE7mBzrGECYyWaaqJx3oC47M1kmaKT-XWbTl5QTEPW=s64",
      "userId": "17464005290403814327"
     },
     "user_tz": 300
    },
    "id": "n4k1h9CC7Bhw",
    "outputId": "4cbe42fc-9645-4f11-a494-cc6fb436fa78"
   },
   "outputs": [],
   "source": [
    "def run_nn(epochs=10):\n",
    "    nn_model = tf.keras.Sequential([\n",
    "        tf.keras.layers.Dense(num_cats*2, input_dim=6, activation=\"relu\"),\n",
    "        tf.keras.layers.Dense(num_cats*3, activation=\"relu\"),\n",
    "        tf.keras.layers.Dense(num_cats*2, activation=\"relu\"),\n",
    "        tf.keras.layers.Dense(num_cats, activation=\"softmax\")\n",
    "        ])\n",
    "\n",
    "    nn_model.compile(optimizer=\"adam\", loss=\"categorical_crossentropy\", metrics=[\"accuracy\", tf.keras.metrics.AUC(name=\"epoch_auc\")])\n",
    "    return nn_model.fit(train_batch, epochs=epochs, verbose=VERBOSE)\n",
    "\n",
    "# sample run\n",
    "m = run_nn()\n",
    "print(\"NN Accuracy:\", mean(m.history[\"acc\"]), \"NN AUC:\", mean(m.history[\"epoch_auc\"]))"
   ]
  },
  {
   "cell_type": "markdown",
   "metadata": {
    "colab_type": "text",
    "id": "EfCSTgltvJdh"
   },
   "source": [
    "#### Epoch Tuning"
   ]
  },
  {
   "cell_type": "code",
   "execution_count": null,
   "metadata": {
    "colab": {
     "base_uri": "https://localhost:8080/",
     "height": 1000
    },
    "colab_type": "code",
    "executionInfo": {
     "elapsed": 1098531,
     "status": "ok",
     "timestamp": 1575948393941,
     "user": {
      "displayName": "Matt Manzi",
      "photoUrl": "https://lh3.googleusercontent.com/a-/AAuE7mBzrGECYyWaaqJx3oC47M1kmaKT-XWbTl5QTEPW=s64",
      "userId": "17464005290403814327"
     },
     "user_tz": 300
    },
    "id": "z_w99e1Vr4L0",
    "outputId": "26629598-dabe-43bc-f75a-e802b40d1457"
   },
   "outputs": [],
   "source": [
    "range_epoch = range(10, 21, 1)\n",
    "nn_acc = []\n",
    "maxx_nn = (0, 0)\n",
    "for epoch in range_epoch:\n",
    "    m = run_nn(epoch)\n",
    "    a = mean(m.history[\"acc\"])\n",
    "    nn_acc.append(a)\n",
    "    if a > maxx_nn[0]:\n",
    "        maxx_nn = (a, epoch)\n",
    "print(\"Best Run:\", maxx_nn)\n",
    "plt.title(\"Average Accuracy vs. Number of Epochs\")\n",
    "plt.xlabel(\"epochs\")\n",
    "plt.ylabel(\"Avg. Accuracy\")\n",
    "plt.plot(range_epoch, nn_acc)"
   ]
  },
  {
   "cell_type": "markdown",
   "metadata": {
    "colab_type": "text",
    "id": "pLAeLDyG7Bhz"
   },
   "source": [
    "## Results"
   ]
  },
  {
   "cell_type": "code",
   "execution_count": null,
   "metadata": {
    "colab": {
     "base_uri": "https://localhost:8080/",
     "height": 986
    },
    "colab_type": "code",
    "executionInfo": {
     "elapsed": 125814,
     "status": "ok",
     "timestamp": 1575948719757,
     "user": {
      "displayName": "Matt Manzi",
      "photoUrl": "https://lh3.googleusercontent.com/a-/AAuE7mBzrGECYyWaaqJx3oC47M1kmaKT-XWbTl5QTEPW=s64",
      "userId": "17464005290403814327"
     },
     "user_tz": 300
    },
    "id": "Z2Ig8yHUK5I-",
    "outputId": "98de5b00-42ab-4479-fcda-b45cd2ae9162"
   },
   "outputs": [],
   "source": [
    "# run each model with the best value for the tuned hyperparameter\n",
    "rf_m = run_rf(maxx_rf[1])\n",
    "lr_m = run_lr(maxx_lr[1])\n",
    "nn_m = run_nn(maxx_nn[1])\n",
    "\n",
    "rf_prob = rf_m.predict_proba(X_test)\n",
    "if int(sklearn.__version__.split(\".\")[1]) >= 22:\n",
    "    print(\"RF Accuracy:\", rf_m.score(X_test, y_test), \"RF AUC:\", roc_auc_score(y_test, rf_prob, multi_class=\"ovr\"))\n",
    "else:\n",
    "    print(\"RF Accuracy:\", rf_m.score(X_test, y_test))\n",
    "print()\n",
    "lr_prob = lr_m.predict_proba(X_test)\n",
    "if int(sklearn.__version__.split(\".\")[1]) >= 22:\n",
    "    print(\"LR Accuracy:\", lr_m.score(X_test, y_test), \"LR AUC:\", roc_auc_score(y_test, lr_prob, multi_class=\"ovr\"))\n",
    "else:\n",
    "    print(\"LR Accuracy:\", lr_m.score(X_test, y_test))\n",
    "print()\n",
    "print(\"NN Accuracy:\", mean(nn_m.history[\"acc\"]), \"NN AUC:\", mean(nn_m.history[\"epoch_auc\"]))"
   ]
  },
  {
   "cell_type": "markdown",
   "metadata": {
    "colab_type": "text",
    "id": "cEylJjPr7Bh0"
   },
   "source": [
    "### Comparison Table"
   ]
  },
  {
   "cell_type": "markdown",
   "metadata": {
    "colab_type": "text",
    "id": "-CiqCE5q7Bh2"
   },
   "source": [
    "Let's compare the accuracy and AUC values of the different models:\n",
    "\n",
    "\n",
    "|                | Random Forest | Logistic Regression | Neural Network |\n",
    "|:--------------:|:-------------:|:-------------------:|:--------------:|\n",
    "|    Accuracy    |    33.118%    |      26.326%        |    26.160%     |\n",
    "|    AUC         |               |                     |     0.840      |"
   ]
  },
  {
   "cell_type": "markdown",
   "metadata": {
    "colab_type": "text",
    "id": "PiL9fvhD7Bh2"
   },
   "source": [
    "### Plots"
   ]
  },
  {
   "cell_type": "markdown",
   "metadata": {
    "colab_type": "text",
    "id": "m4WhCvET7PEU"
   },
   "source": [
    "Above, you'll see plots for each of the hyperparameter tunings that were completed, placed with their respective models for clarity.\n",
    "\n",
    "Next, there is a plot of the history of the best-tuned hyperparameter for the neural network."
   ]
  },
  {
   "cell_type": "code",
   "execution_count": null,
   "metadata": {
    "colab": {
     "base_uri": "https://localhost:8080/",
     "height": 404
    },
    "colab_type": "code",
    "executionInfo": {
     "elapsed": 558,
     "status": "ok",
     "timestamp": 1575949138783,
     "user": {
      "displayName": "Matt Manzi",
      "photoUrl": "https://lh3.googleusercontent.com/a-/AAuE7mBzrGECYyWaaqJx3oC47M1kmaKT-XWbTl5QTEPW=s64",
      "userId": "17464005290403814327"
     },
     "user_tz": 300
    },
    "id": "bzz23t9G7Bh4",
    "outputId": "88a3a3be-54ea-4ab2-faf4-07556be74e35"
   },
   "outputs": [],
   "source": [
    "# neural network history for best tuning of hyperparameter\n",
    "pd.DataFrame(nn_m.history).plot(figsize=(15, 6))\n",
    "plt.xticks(range(0, maxx_nn[1]))\n",
    "plt.title(\"Progress of Neural Network (Tuned)\")\n",
    "plt.ylabel(\"Accuracy % / Loss Value / AUC Value\")\n",
    "plt.xlabel(\"Epoch\")\n",
    "plt.grid(True)"
   ]
  },
  {
   "cell_type": "markdown",
   "metadata": {
    "colab_type": "text",
    "id": "638buoSb7Bh7"
   },
   "source": [
    "## Discussion"
   ]
  },
  {
   "cell_type": "markdown",
   "metadata": {
    "colab_type": "text",
    "id": "hutEXd7V7Bh8"
   },
   "source": [
    "Although we all love a happy ending, that's not always what we get.  In this case, since the accuracy of each of these models has yet to break 50% in a reasonable amount of time, I believe that it is fair to say that one of two reasons may be at fault here:\n",
    "1. **The dataset is not specific enough.**  Given that there are a small number of features that share values that are all very common amongst the data (e.g. the `Installs` column), it is very possible that the dataset simply does not have enough detail about each entry.\n",
    "2. **The data is simply not correlated in the way the hypothesis predicted.**  This is not uncommon, however it is also not flashy.  Unfortunately, there may not be correlation between popularity, file size, category, etc. of an app.  All of these aspects of an app may very well range across the spectrum of good apps and bad ones, and rather than a pattern emerging, it seems that an \"anti-pattern\" of sorts has been found.\n",
    "\n",
    "Nonetheless, the results were still disappointing.  The low accuracy is not promising, it seems that any continued increases based on hyperparameter tuning would simply cause the models to overfit to the training data, although I would still be curious to see how well these models would given a week's worth of CPU time.  Early on, I did run the models on data that was not normalized, which produced even worse results, however the improvement mainly benefited the neural network, getting its accuracy back around to the same caliber that the `sklearn` models were achieving.  It is also interesting to note the high values that AUC is achieving.  This seems to show that the model is not performing so poorly that it is completely \"guessing\" at the answer but rather its guesses land often near the answer instead of at it exactly.\n",
    "\n",
    "As a mobile app developer, I was hoping that these results would give me some direction with how I develop my apps and market them.  Although I did not receive advice on specifics, the results did reinforce my belief and techniques in good app development."
   ]
  },
  {
   "cell_type": "markdown",
   "metadata": {
    "colab_type": "text",
    "id": "pdsKPcaj7Bh8"
   },
   "source": [
    "## Grading"
   ]
  },
  {
   "cell_type": "markdown",
   "metadata": {
    "colab_type": "text",
    "id": "Y_p-tx2A7Bh9"
   },
   "source": [
    "Project grading rubric (total 100 points - 20% of the final grade):\n",
    "\n",
    "- Project proposal: 10 points\n",
    "\n",
    "- Final submission: 70 points - Breakdown as follows\n",
    "\n",
    "    - 30 points: Methods, hyperparameter tuning and comparison table\n",
    "    \n",
    "    - 20 points: Plots\n",
    "\n",
    "    - 20 points: Discussion (2 paragraphs)\n",
    "    \n",
    "- Project complexity and intellectual efforts judged by the instructor: 20 points\n",
    "    \n",
    "<b>Notice:</b> similar to the assignments, up to 10 points may be deducted if your notebook is not easy to read and/or has spelling/grammatical errors, so proofread your notebook!"
   ]
  },
  {
   "cell_type": "markdown",
   "metadata": {
    "colab_type": "text",
    "id": "zW-2QA2t7Bh9"
   },
   "source": [
    "## How to Submit and Due Date - Late Penalty Will be Strictly Applied!"
   ]
  },
  {
   "cell_type": "markdown",
   "metadata": {
    "colab_type": "text",
    "id": "MBYc3WVF7Bh-"
   },
   "source": [
    "Name your final project notebook ```Lastname-Project.ipynb```. Submit the notebook file with your dataset file in a zip file named EXACTLY as `Lastname-Project.zip` using the ```Final Project``` link on Blackboard. For groups, only one submission is required.\n",
    "\n",
    "<font color=red><b>Project Final Submission Due Date: Monday Dec 9th 11:59PM.</b></font>"
   ]
  }
 ],
 "metadata": {
  "colab": {
   "collapsed_sections": [],
   "name": "Project-Final.ipynb",
   "provenance": []
  },
  "kernelspec": {
   "display_name": "Python 3",
   "language": "python",
   "name": "python3"
  },
  "language_info": {
   "codemirror_mode": {
    "name": "ipython",
    "version": 3
   },
   "file_extension": ".py",
   "mimetype": "text/x-python",
   "name": "python",
   "nbconvert_exporter": "python",
   "pygments_lexer": "ipython3",
   "version": "3.6.8"
  }
 },
 "nbformat": 4,
 "nbformat_minor": 1
}
